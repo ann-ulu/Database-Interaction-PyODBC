{
 "cells": [
  {
   "cell_type": "code",
   "execution_count": 3,
   "id": "c5789c8b",
   "metadata": {},
   "outputs": [
    {
     "name": "stdout",
     "output_type": "stream",
     "text": [
      "   Row ID        Order ID  Order Date   Ship Date       Ship Mode Customer ID  \\\n",
      "0       1  CA-2020-152156  2020-11-08  2020-11-11    Second Class    CG-12520   \n",
      "1       2  CA-2020-152156  2020-11-08  2020-11-11    Second Class    CG-12520   \n",
      "2       3  CA-2020-138688  2020-06-12  2020-06-16    Second Class    DV-13045   \n",
      "3       4  US-2019-108966  2019-10-11  2019-10-18  Standard Class    SO-20335   \n",
      "4       5  US-2019-108966  2019-10-11  2019-10-18  Standard Class    SO-20335   \n",
      "5       6  CA-2018-115812  2018-06-09  2018-06-14  Standard Class    BH-11710   \n",
      "6       7  CA-2018-115812  2018-06-09  2018-06-14  Standard Class    BH-11710   \n",
      "7       8  CA-2018-115812  2018-06-09  2018-06-14  Standard Class    BH-11710   \n",
      "8       9  CA-2018-115812  2018-06-09  2018-06-14  Standard Class    BH-11710   \n",
      "9      10  CA-2018-115812  2018-06-09  2018-06-14  Standard Class    BH-11710   \n",
      "\n",
      "     Customer Name    Segment Country/Region             City  ...  \\\n",
      "0      Claire Gute   Consumer  United States        Henderson  ...   \n",
      "1      Claire Gute   Consumer  United States        Henderson  ...   \n",
      "2  Darrin Van Huff  Corporate  United States      Los Angeles  ...   \n",
      "3   Sean O'Donnell   Consumer  United States  Fort Lauderdale  ...   \n",
      "4   Sean O'Donnell   Consumer  United States  Fort Lauderdale  ...   \n",
      "5  Brosina Hoffman   Consumer  United States      Los Angeles  ...   \n",
      "6  Brosina Hoffman   Consumer  United States      Los Angeles  ...   \n",
      "7  Brosina Hoffman   Consumer  United States      Los Angeles  ...   \n",
      "8  Brosina Hoffman   Consumer  United States      Los Angeles  ...   \n",
      "9  Brosina Hoffman   Consumer  United States      Los Angeles  ...   \n",
      "\n",
      "  Postal Code  Region       Product ID         Category Sub-Category  \\\n",
      "0       42420   South  FUR-BO-10001798        Furniture    Bookcases   \n",
      "1       42420   South  FUR-CH-10000454        Furniture       Chairs   \n",
      "2       90036    West  OFF-LA-10000240  Office Supplies       Labels   \n",
      "3       33311   South  FUR-TA-10000577        Furniture       Tables   \n",
      "4       33311   South  OFF-ST-10000760  Office Supplies      Storage   \n",
      "5       90032    West  FUR-FU-10001487        Furniture  Furnishings   \n",
      "6       90032    West  OFF-AR-10002833  Office Supplies          Art   \n",
      "7       90032    West  TEC-PH-10002275       Technology       Phones   \n",
      "8       90032    West  OFF-BI-10003910  Office Supplies      Binders   \n",
      "9       90032    West  OFF-AP-10002892  Office Supplies   Appliances   \n",
      "\n",
      "                                        Product Name     Sales  Quantity  \\\n",
      "0                  Bush Somerset Collection Bookcase  261.9600         2   \n",
      "1  Hon Deluxe Fabric Upholstered Stacking Chairs,...  731.9400         3   \n",
      "2  Self-Adhesive Address Labels for Typewriters b...   14.6200         2   \n",
      "3      Bretford CR4500 Series Slim Rectangular Table  957.5775         5   \n",
      "4                     Eldon Fold 'N Roll Cart System   22.3680         2   \n",
      "5  Eldon Expressions Wood and Plastic Desk Access...   48.8600         7   \n",
      "6                                         Newell 322    7.2800         4   \n",
      "7                     Mitel 5320 IP Phone VoIP phone  907.1520         6   \n",
      "8  DXL Angle-View Binders with Locking Rings by S...   18.5040         3   \n",
      "9                   Belkin F5C206VTEL 6 Outlet Surge  114.9000         5   \n",
      "\n",
      "   Discount    Profit  \n",
      "0      0.00   41.9136  \n",
      "1      0.00  219.5820  \n",
      "2      0.00    6.8714  \n",
      "3      0.45 -383.0310  \n",
      "4      0.20    2.5164  \n",
      "5      0.00   14.1694  \n",
      "6      0.00    1.9656  \n",
      "7      0.20   90.7152  \n",
      "8      0.20    5.7825  \n",
      "9      0.00   34.4700  \n",
      "\n",
      "[10 rows x 21 columns]\n"
     ]
    },
    {
     "name": "stderr",
     "output_type": "stream",
     "text": [
      "C:\\Users\\Ann\\AppData\\Local\\Temp\\ipykernel_23348\\2744154872.py:15: UserWarning: pandas only supports SQLAlchemy connectable (engine/connection) or database string URI or sqlite3 DBAPI2 connection. Other DBAPI2 objects are not tested. Please consider using SQLAlchemy.\n",
      "  df = pd.read_sql(query, cnxn)\n"
     ]
    }
   ],
   "source": [
    "import pyodbc\n",
    "import pandas as pd\n",
    "\n",
    "# Define the connection string\n",
    "cnxn_str = (\"Driver={ODBC Driver 17 for SQL Server};\"\n",
    "            \"Server=DESKTOP-CAUUOUC;\"\n",
    "            \"Database=Superstore;\"\n",
    "            \"Trusted_Connection=yes;\")\n",
    "\n",
    "# Establish the connection\n",
    "cnxn = pyodbc.connect(cnxn_str)\n",
    "\n",
    "# Execute the SQL query and fetch the results into a DataFrame\n",
    "query = \"SELECT TOP 10 * FROM dbo.Orders\"\n",
    "df = pd.read_sql(query, cnxn)\n",
    "\n",
    "# Print the DataFrame\n",
    "print(df)"
   ]
  },
  {
   "cell_type": "code",
   "execution_count": 2,
   "id": "f106682a",
   "metadata": {},
   "outputs": [
    {
     "name": "stdout",
     "output_type": "stream",
     "text": [
      "   Row ID        Order ID  Order Date   Ship Date       Ship Mode Customer ID  \\\n",
      "0       1  CA-2020-152156  2020-11-08  2020-11-11    Second Class    CG-12520   \n",
      "1       2  CA-2020-152156  2020-11-08  2020-11-11    Second Class    CG-12520   \n",
      "2       3  CA-2020-138688  2020-06-12  2020-06-16    Second Class    DV-13045   \n",
      "3       4  US-2019-108966  2019-10-11  2019-10-18  Standard Class    SO-20335   \n",
      "4       5  US-2019-108966  2019-10-11  2019-10-18  Standard Class    SO-20335   \n",
      "\n",
      "     Customer Name    Segment Country/Region             City  ...  \\\n",
      "0      Claire Gute   Consumer  United States        Henderson  ...   \n",
      "1      Claire Gute   Consumer  United States        Henderson  ...   \n",
      "2  Darrin Van Huff  Corporate  United States      Los Angeles  ...   \n",
      "3   Sean O'Donnell   Consumer  United States  Fort Lauderdale  ...   \n",
      "4   Sean O'Donnell   Consumer  United States  Fort Lauderdale  ...   \n",
      "\n",
      "  Postal Code  Region       Product ID         Category Sub-Category  \\\n",
      "0       42420   South  FUR-BO-10001798        Furniture    Bookcases   \n",
      "1       42420   South  FUR-CH-10000454        Furniture       Chairs   \n",
      "2       90036    West  OFF-LA-10000240  Office Supplies       Labels   \n",
      "3       33311   South  FUR-TA-10000577        Furniture       Tables   \n",
      "4       33311   South  OFF-ST-10000760  Office Supplies      Storage   \n",
      "\n",
      "                                        Product Name     Sales  Quantity  \\\n",
      "0                  Bush Somerset Collection Bookcase  261.9600         2   \n",
      "1  Hon Deluxe Fabric Upholstered Stacking Chairs,...  731.9400         3   \n",
      "2  Self-Adhesive Address Labels for Typewriters b...   14.6200         2   \n",
      "3      Bretford CR4500 Series Slim Rectangular Table  957.5775         5   \n",
      "4                     Eldon Fold 'N Roll Cart System   22.3680         2   \n",
      "\n",
      "   Discount    Profit  \n",
      "0      0.00   41.9136  \n",
      "1      0.00  219.5820  \n",
      "2      0.00    6.8714  \n",
      "3      0.45 -383.0310  \n",
      "4      0.20    2.5164  \n",
      "\n",
      "[5 rows x 21 columns]\n"
     ]
    },
    {
     "name": "stderr",
     "output_type": "stream",
     "text": [
      "C:\\Users\\Ann\\AppData\\Local\\Temp\\ipykernel_23348\\3569702860.py:3: UserWarning: pandas only supports SQLAlchemy connectable (engine/connection) or database string URI or sqlite3 DBAPI2 connection. Other DBAPI2 objects are not tested. Please consider using SQLAlchemy.\n",
      "  df = pd.read_sql(query, cnxn)\n"
     ]
    }
   ],
   "source": [
    "# Execute the SQL query and fetch the results into a DataFrame\n",
    "query = \"SELECT TOP 5 * FROM dbo.Orders\"\n",
    "df = pd.read_sql(query, cnxn)\n",
    "\n",
    "# Print the DataFrame\n",
    "print(df)"
   ]
  }
 ],
 "metadata": {
  "kernelspec": {
   "display_name": "Python 3 (ipykernel)",
   "language": "python",
   "name": "python3"
  },
  "language_info": {
   "codemirror_mode": {
    "name": "ipython",
    "version": 3
   },
   "file_extension": ".py",
   "mimetype": "text/x-python",
   "name": "python",
   "nbconvert_exporter": "python",
   "pygments_lexer": "ipython3",
   "version": "3.12.0"
  }
 },
 "nbformat": 4,
 "nbformat_minor": 5
}
