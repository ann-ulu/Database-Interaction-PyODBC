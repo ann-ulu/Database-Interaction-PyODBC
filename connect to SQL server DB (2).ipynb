{
 "cells": [
  {
   "cell_type": "code",
   "execution_count": 1,
   "id": "164007be",
   "metadata": {},
   "outputs": [],
   "source": [
    "import pyodbc"
   ]
  },
  {
   "cell_type": "code",
   "execution_count": 2,
   "id": "840c0226",
   "metadata": {},
   "outputs": [],
   "source": [
    "import pandas"
   ]
  },
  {
   "cell_type": "code",
   "execution_count": 3,
   "id": "b39160bc",
   "metadata": {},
   "outputs": [],
   "source": [
    "cnxn_str = (\"Driver={ODBC Driver 17 for SQL Server};\"\n",
    "            \"Server=DESKTOP-CAUUOUC;\"\n",
    "            \"Database=Superstore;\"\n",
    "            \"Trusted_Connection=yes;\")"
   ]
  },
  {
   "cell_type": "code",
   "execution_count": 4,
   "id": "7644e3ab",
   "metadata": {
    "scrolled": true
   },
   "outputs": [],
   "source": [
    "cnxn =pyodbc.connect(cnxn_str)"
   ]
  },
  {
   "cell_type": "code",
   "execution_count": 5,
   "id": "1d026004",
   "metadata": {},
   "outputs": [],
   "source": [
    "cursor = cnxn.cursor()"
   ]
  },
  {
   "cell_type": "code",
   "execution_count": 6,
   "id": "771d263a",
   "metadata": {},
   "outputs": [
    {
     "data": {
      "text/plain": [
       "<pyodbc.Cursor at 0x20f3a631130>"
      ]
     },
     "execution_count": 6,
     "metadata": {},
     "output_type": "execute_result"
    }
   ],
   "source": [
    "cursor.execute(\"select top 10 * from dbo.Orders\")"
   ]
  },
  {
   "cell_type": "code",
   "execution_count": 7,
   "id": "2e7a9d22",
   "metadata": {},
   "outputs": [],
   "source": [
    "rows = cursor.fetchall()\n"
   ]
  },
  {
   "cell_type": "code",
   "execution_count": 8,
   "id": "12bab23a",
   "metadata": {},
   "outputs": [
    {
     "name": "stdout",
     "output_type": "stream",
     "text": [
      "(1, 'CA-2020-152156', datetime.date(2020, 11, 8), datetime.date(2020, 11, 11), 'Second Class', 'CG-12520', 'Claire Gute', 'Consumer', 'United States', 'Henderson', 'Kentucky', 42420, 'South', 'FUR-BO-10001798', 'Furniture', 'Bookcases', 'Bush Somerset Collection Bookcase', Decimal('261.9600'), 2, Decimal('0.00'), Decimal('41.9136'))\n",
      "(2, 'CA-2020-152156', datetime.date(2020, 11, 8), datetime.date(2020, 11, 11), 'Second Class', 'CG-12520', 'Claire Gute', 'Consumer', 'United States', 'Henderson', 'Kentucky', 42420, 'South', 'FUR-CH-10000454', 'Furniture', 'Chairs', 'Hon Deluxe Fabric Upholstered Stacking Chairs, Rounded Back', Decimal('731.9400'), 3, Decimal('0.00'), Decimal('219.5820'))\n",
      "(3, 'CA-2020-138688', datetime.date(2020, 6, 12), datetime.date(2020, 6, 16), 'Second Class', 'DV-13045', 'Darrin Van Huff', 'Corporate', 'United States', 'Los Angeles', 'California', 90036, 'West', 'OFF-LA-10000240', 'Office Supplies', 'Labels', 'Self-Adhesive Address Labels for Typewriters by Universal', Decimal('14.6200'), 2, Decimal('0.00'), Decimal('6.8714'))\n",
      "(4, 'US-2019-108966', datetime.date(2019, 10, 11), datetime.date(2019, 10, 18), 'Standard Class', 'SO-20335', \"Sean O'Donnell\", 'Consumer', 'United States', 'Fort Lauderdale', 'Florida', 33311, 'South', 'FUR-TA-10000577', 'Furniture', 'Tables', 'Bretford CR4500 Series Slim Rectangular Table', Decimal('957.5775'), 5, Decimal('0.45'), Decimal('-383.0310'))\n",
      "(5, 'US-2019-108966', datetime.date(2019, 10, 11), datetime.date(2019, 10, 18), 'Standard Class', 'SO-20335', \"Sean O'Donnell\", 'Consumer', 'United States', 'Fort Lauderdale', 'Florida', 33311, 'South', 'OFF-ST-10000760', 'Office Supplies', 'Storage', \"Eldon Fold 'N Roll Cart System\", Decimal('22.3680'), 2, Decimal('0.20'), Decimal('2.5164'))\n",
      "(6, 'CA-2018-115812', datetime.date(2018, 6, 9), datetime.date(2018, 6, 14), 'Standard Class', 'BH-11710', 'Brosina Hoffman', 'Consumer', 'United States', 'Los Angeles', 'California', 90032, 'West', 'FUR-FU-10001487', 'Furniture', 'Furnishings', 'Eldon Expressions Wood and Plastic Desk Accessories, Cherry Wood', Decimal('48.8600'), 7, Decimal('0.00'), Decimal('14.1694'))\n",
      "(7, 'CA-2018-115812', datetime.date(2018, 6, 9), datetime.date(2018, 6, 14), 'Standard Class', 'BH-11710', 'Brosina Hoffman', 'Consumer', 'United States', 'Los Angeles', 'California', 90032, 'West', 'OFF-AR-10002833', 'Office Supplies', 'Art', 'Newell 322', Decimal('7.2800'), 4, Decimal('0.00'), Decimal('1.9656'))\n",
      "(8, 'CA-2018-115812', datetime.date(2018, 6, 9), datetime.date(2018, 6, 14), 'Standard Class', 'BH-11710', 'Brosina Hoffman', 'Consumer', 'United States', 'Los Angeles', 'California', 90032, 'West', 'TEC-PH-10002275', 'Technology', 'Phones', 'Mitel 5320 IP Phone VoIP phone', Decimal('907.1520'), 6, Decimal('0.20'), Decimal('90.7152'))\n",
      "(9, 'CA-2018-115812', datetime.date(2018, 6, 9), datetime.date(2018, 6, 14), 'Standard Class', 'BH-11710', 'Brosina Hoffman', 'Consumer', 'United States', 'Los Angeles', 'California', 90032, 'West', 'OFF-BI-10003910', 'Office Supplies', 'Binders', 'DXL Angle-View Binders with Locking Rings by Samsill', Decimal('18.5040'), 3, Decimal('0.20'), Decimal('5.7825'))\n",
      "(10, 'CA-2018-115812', datetime.date(2018, 6, 9), datetime.date(2018, 6, 14), 'Standard Class', 'BH-11710', 'Brosina Hoffman', 'Consumer', 'United States', 'Los Angeles', 'California', 90032, 'West', 'OFF-AP-10002892', 'Office Supplies', 'Appliances', 'Belkin F5C206VTEL 6 Outlet Surge', Decimal('114.9000'), 5, Decimal('0.00'), Decimal('34.4700'))\n"
     ]
    }
   ],
   "source": [
    "for row in rows:\n",
    "    print(row)"
   ]
  }
 ],
 "metadata": {
  "kernelspec": {
   "display_name": "Python 3 (ipykernel)",
   "language": "python",
   "name": "python3"
  },
  "language_info": {
   "codemirror_mode": {
    "name": "ipython",
    "version": 3
   },
   "file_extension": ".py",
   "mimetype": "text/x-python",
   "name": "python",
   "nbconvert_exporter": "python",
   "pygments_lexer": "ipython3",
   "version": "3.12.0"
  }
 },
 "nbformat": 4,
 "nbformat_minor": 5
}
